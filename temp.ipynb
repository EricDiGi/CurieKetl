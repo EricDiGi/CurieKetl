{
 "cells": [
  {
   "cell_type": "code",
   "execution_count": 17,
   "metadata": {},
   "outputs": [],
   "source": [
    "from sqlalchemy.types import DateTime, Float, Integer, String, Text\n",
    "front_conversations_schema = {\n",
    "    \"_links_self\":String(128), \n",
    "    \"_links_related_events\":String(256),\n",
    "    \"_links_related_followers\":String(256),\n",
    "    \"_links_related_messages\":String(256),\n",
    "    \"_links_related_comments\":String(256),\n",
    "    \"_links_related_inboxes\":String(256),\n",
    "    \"_links_related_last_message\":String(256),\n",
    "    \"id\":String(32),\n",
    "    \"subject\":String(2048),\n",
    "    \"status\":String(32),\n",
    "    \"assignee\":String(64),\n",
    "    \"recipient_links_related_contact\":String(128),\n",
    "    \"recipient_name\":String(128),\n",
    "    \"recipient_handle\":String(256),\n",
    "    \"recipient_role\":String(16),\n",
    "    \"tags\":String(4096),\n",
    "    \"links\":String(256),\n",
    "    \"created_at\":Float(10),\n",
    "    \"is_private\":String(16),\n",
    "    \"scheduled_reminders\":String(512),\n",
    "    \"assignee_links_self\":String(128),\n",
    "    \"assignee_links_related_inboxes\":String(128),\n",
    "    \"assignee_links_related_conversations\":String(256),\n",
    "    \"assignee_id\":String(32),\n",
    "    \"assignee_email\":String(128),\n",
    "    \"assignee_username\":String(64),\n",
    "    \"assignee_first_name\":String(32),\n",
    "    \"assignee_last_name\":String(32),\n",
    "    \"assignee_is_admin\":String(16),\n",
    "    \"assignee_is_available\":String(16),\n",
    "    \"assignee_is_blocked\":String(16)\n",
    "}\n",
    "\n",
    "__types = {\n",
    "    String: 'VARCHAR',\n",
    "    Float: 'FLOAT'\n",
    "}"
   ]
  },
  {
   "cell_type": "code",
   "execution_count": 22,
   "metadata": {},
   "outputs": [
    {
     "name": "stdout",
     "output_type": "stream",
     "text": [
      "_links_self VARCHAR,\n",
      "_links_related_events VARCHAR(MAX),\n",
      "_links_related_followers VARCHAR(MAX),\n",
      "_links_related_messages VARCHAR(MAX),\n",
      "_links_related_comments VARCHAR(MAX),\n",
      "_links_related_inboxes VARCHAR(MAX),\n",
      "_links_related_last_message VARCHAR(MAX),\n",
      "id VARCHAR,\n",
      "subject VARCHAR(MAX),\n",
      "status VARCHAR,\n",
      "assignee VARCHAR,\n",
      "recipient_links_related_contact VARCHAR,\n",
      "recipient_name VARCHAR,\n",
      "recipient_handle VARCHAR(MAX),\n",
      "recipient_role VARCHAR,\n",
      "tags VARCHAR(MAX),\n",
      "links VARCHAR(MAX),\n",
      "created_at FLOAT,\n",
      "is_private VARCHAR,\n",
      "scheduled_reminders VARCHAR(MAX),\n",
      "assignee_links_self VARCHAR,\n",
      "assignee_links_related_inboxes VARCHAR,\n",
      "assignee_links_related_conversations VARCHAR(MAX),\n",
      "assignee_id VARCHAR,\n",
      "assignee_email VARCHAR,\n",
      "assignee_username VARCHAR,\n",
      "assignee_first_name VARCHAR,\n",
      "assignee_last_name VARCHAR,\n",
      "assignee_is_admin VARCHAR,\n",
      "assignee_is_available VARCHAR,\n",
      "assignee_is_blocked VARCHAR,\n"
     ]
    }
   ],
   "source": [
    "for key, val in list(front_conversations_schema.items()):\n",
    "    valtype = __types[type(val)]\n",
    "    if valtype == 'VARCHAR' and val.length > 250:\n",
    "        valtype = 'VARCHAR(MAX)'\n",
    "    print(\"{} {},\".format(key, valtype))"
   ]
  }
 ],
 "metadata": {
  "kernelspec": {
   "display_name": "base",
   "language": "python",
   "name": "python3"
  },
  "language_info": {
   "codemirror_mode": {
    "name": "ipython",
    "version": 3
   },
   "file_extension": ".py",
   "mimetype": "text/x-python",
   "name": "python",
   "nbconvert_exporter": "python",
   "pygments_lexer": "ipython3",
   "version": "3.9.15"
  },
  "orig_nbformat": 4
 },
 "nbformat": 4,
 "nbformat_minor": 2
}
