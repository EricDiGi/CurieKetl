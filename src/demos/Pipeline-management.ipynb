{
 "cells": [
  {
   "cell_type": "markdown",
   "metadata": {},
   "source": [
    "# Getting Started\n",
    "\n",
    "### Usage\n",
    "Curie will always assume to be operating from the project's root directory, even when the script is in deep child directories. This is because Curie will always look for the `project.yml` file in the project's root directory. This file is used to document the project's metadata.\n",
    "\n",
    "* **pathways.yaml** - You'll find this in `<project>/config/` and it contains the grand master list of all the pathways in your project. This is the file that Curie will use to comprehend pipelines and their dependencies.\n",
    "* **connections.yaml** - Pointed to in the 'pathways.yaml' file, this file contains the connection information for all the data sources in your project. This is the file that Curie will use to connect to your data sources.\n",
    "* **project.yml** - This file contains the metadata for your project. This is the file that Curie will use to understand the project's name, description, and other metadata.\n",
    "* **/blueprints** - This directory contains the blueprints for your project. This is the directory that Curie will use to find the blueprints for your project. Each **blueprint** describes a single pipeline in your project. These are yaml files.\n",
    "\n",
    "<div class=\"alert alert-block alert-success\">Please refer to the module's README for more information on the project's structure and best practices.</div>"
   ]
  },
  {
   "cell_type": "markdown",
   "metadata": {},
   "source": [
    "## Initializing a Project"
   ]
  },
  {
   "cell_type": "code",
   "execution_count": null,
   "metadata": {
    "vscode": {
     "languageId": "bat"
    }
   },
   "outputs": [],
   "source": [
    "cd parentDirectory\n",
    "curie -i CurieProjectName"
   ]
  },
  {
   "cell_type": "markdown",
   "metadata": {},
   "source": [
    "## Compile a Pipeline\n",
    "\n",
    " Compiled pipelines are stored in the `<project>/scripts/compiled/<pipe>/<mode>` directory.\n",
    " \n",
    "**Note:** There is no way to compile only one table in a pipeline. You must compile the entire pipeline."
   ]
  },
  {
   "cell_type": "code",
   "execution_count": null,
   "metadata": {
    "vscode": {
     "languageId": "bat"
    }
   },
   "outputs": [],
   "source": [
    "@REM Compile a pipeline in RUN mode\n",
    "curie -r my_pipe -c\n",
    "@REM OR\n",
    "curie --run my_pipe --compile"
   ]
  },
  {
   "cell_type": "code",
   "execution_count": null,
   "metadata": {},
   "outputs": [],
   "source": [
    "from curie import Curie\n",
    "c = Curie()\n",
    "mode = 'run'\n",
    "c.path('test-etl').mode(mode)"
   ]
  },
  {
   "cell_type": "markdown",
   "metadata": {},
   "source": [
    "## Executing a Pipeline\n",
    "**Modes** - `run` and `save`.\n",
    "\n",
    "1. **Run mode** - Will execute the pipeline against the database affecting the associated tabels.\n",
    "\n",
    "2. **Save mode** - Will execute the pipeline against the database and save the results to a file.\n",
    "\n",
    "\n",
    "\n",
    "**All Tables** - Can be specified by swapping the list of tables with a single period. (Example: `curie --run pipe --tables .` or `curie --save pipe --tables .`)\n",
    "\n",
    "**Using a list of tables** - In python you can use a list of tables to specify which tables to run the pipeline against. In the command line you can use a space separated list of tables. (Example: `curie --run pipe --tables table1 table2 table3` or `curie --save pipe --tables table1 table2 table3`)"
   ]
  },
  {
   "cell_type": "code",
   "execution_count": null,
   "metadata": {
    "vscode": {
     "languageId": "bat"
    }
   },
   "outputs": [],
   "source": [
    "@REM Run a pipeline in RUN mode for all tables\n",
    "curie -r my_pipe -t .\n",
    "@REM OR\n",
    "curie --run my_pipe --tables .\n",
    "\n",
    "@REM Run a pipeline in RUN mode for a specific table\n",
    "curie -r my_pipe -t my_table\n",
    "@REM OR\n",
    "curie --run my_pipe --tables my_table\n",
    "\n",
    "@REM Run a pipeline in SAVE mode for all tables\n",
    "curie -s my_pipe -t .\n",
    "@REM OR\n",
    "curie --save my_pipe --tables .\n",
    "\n",
    "@REM Run a pipeline in SAVE mode for a specific table\n",
    "curie -s my_pipe -t my_table\n",
    "@REM OR\n",
    "curie --save my_pipe --tables my_table"
   ]
  },
  {
   "cell_type": "code",
   "execution_count": null,
   "metadata": {},
   "outputs": [],
   "source": [
    "from curie import Curie\n",
    "\n",
    "c = Curie()\n",
    "\n",
    "# Run all tables using the 'test-etl' pipeline\n",
    "c.path('test-etl').mode('run').execute('.')\n",
    "# Run specific tables using the 'test-etl' pipeline\n",
    "c.path('test-etl').mode('run').execute(['test_table_1', 'test_table_2'])\n",
    "\n",
    "# Save all tables using the 'test-etl' pipeline\n",
    "c.path('test-etl').mode('save').execute('.')\n",
    "# Save specific tables using the 'test-etl' pipeline\n",
    "c.path('test-etl').mode('save').execute(['test_table_1', 'test_table_2'])"
   ]
  },
  {
   "cell_type": "markdown",
   "metadata": {},
   "source": [
    "## Cleaning up your project\n",
    "\n",
    "**Facets** - a term to describe elements found in your project that were generated by Curie. This includes datasets and compiled pipelines. <div class=\"alert alert-block alert-warning\">If you have seed datasets in your project, ensure they are not in `<project>/data/<pipe>/<run,save>/` before running the cleanup command.</div>"
   ]
  },
  {
   "cell_type": "code",
   "execution_count": null,
   "metadata": {
    "vscode": {
     "languageId": "bat"
    }
   },
   "outputs": [],
   "source": [
    "@REM Clean all facets in my pipeline\n",
    "curie --clean my_pipe\n",
    "@REM Clean datasets from my pipeline\n",
    "curie --clean my_pipe --facet data\n",
    "@REM Clean Comiled scripts from my pipeline\n",
    "curie --clean my_pipe --facet compiled\n",
    "@REM Clean everything from all pipelines\n",
    "curie --clean ."
   ]
  },
  {
   "cell_type": "code",
   "execution_count": null,
   "metadata": {},
   "outputs": [],
   "source": [
    "c = Curie()\n",
    "# Clean all facets of the 'test-etl' pipeline\n",
    "c.path('test-etl').clean('.')\n",
    "# Clean specific facets of the 'test-etl' pipeline\n",
    "c.path('test-etl').clean('compiled', 'data')\n",
    "# Clean all facets of all pipelines\n",
    "c.clean('.')\n",
    "# Clean specific facets of all pipelines\n",
    "c.clean('compiled', 'data')"
   ]
  }
 ],
 "metadata": {
  "kernelspec": {
   "display_name": "base",
   "language": "python",
   "name": "python3"
  },
  "language_info": {
   "codemirror_mode": {
    "name": "ipython",
    "version": 3
   },
   "file_extension": ".py",
   "mimetype": "text/x-python",
   "name": "python",
   "nbconvert_exporter": "python",
   "pygments_lexer": "ipython3",
   "version": "3.9.15"
  },
  "orig_nbformat": 4
 },
 "nbformat": 4,
 "nbformat_minor": 2
}
